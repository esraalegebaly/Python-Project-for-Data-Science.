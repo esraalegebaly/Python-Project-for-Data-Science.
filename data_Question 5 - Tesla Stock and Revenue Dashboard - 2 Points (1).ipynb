{
  "metadata": {
    "language_info": {
      "codemirror_mode": {
        "name": "python",
        "version": 3
      },
      "file_extension": ".py",
      "mimetype": "text/x-python",
      "name": "python",
      "nbconvert_exporter": "python",
      "pygments_lexer": "ipython3",
      "version": "3.8"
    },
    "kernelspec": {
      "name": "python",
      "display_name": "Python (Pyodide)",
      "language": "python"
    }
  },
  "nbformat_minor": 4,
  "nbformat": 4,
  "cells": [
    {
      "cell_type": "code",
      "source": "await __import__(\"piplite\").install(**{'requirements': ['yfinance']})\nawait __import__(\"piplite\").install(**{'requirements': ['pandas']})\nawait __import__(\"piplite\").install(**{'requirements': ['requests']})\nawait __import__(\"piplite\").install(**{'requirements': ['lxml']})\nawait __import__(\"piplite\").install(**{'requirements': ['plotly']})\n%pip install yfinance\n%pip install pandas\n%pip install requests\n%pip install bs4\n%pip install plotly\nimport pandas as pd\nimport requests\nfrom bs4 import BeautifulSoup\nimport plotly.graph_objects as go\nfrom plotly.subplots import make_subplots\n\ndef get_stock_data(ticker_symbol, start_date, end_date):\n    stock = yf.Ticker(ticker_symbol)\n    stock_data = stock.history(start=start_date, end=end_date)\n    return stock_data\n\ndef get_revenue_data(url):\n    response = requests.get(url)\n    soup = BeautifulSoup(response.content, 'html.parser')\n    revenue_table = soup.find('table')\n    \n    revenue_data = []\n    for row in revenue_table.find_all('tr')[1:]:\n        cols = row.find_all('td')\n        revenue_data.append([col.text.strip() for col in cols])\n    \n    return pd.DataFrame(revenue_data, columns=[\"Date\", \"Revenue\"])\n\nticker_tesla = \"TSLA\"\nstart_date = \"2022-01-01\"\nend_date = \"2023-01-01\"\n\n# Get Tesla stock data\ntesla_stock_data = get_stock_data(ticker_tesla, start_date, end_date)\n\nurl_tesla_revenue = \"https://www.example.com/tesla/revenue\"\n\ntesla_revenue_data = get_revenue_data(url_tesla_revenue)\n\nfig, ax1 = plt.subplots(figsize=(10, 6))\n\ncolor = 'tab:red'\nax1.set_xlabel('Date')\nax1.set_ylabel('Stock Closing Price', color=color)\nax1.plot(tesla_stock_data.index, tesla_stock_data['Close'], color=color)\nax1.tick_params(axis='y', labelcolor=color)\n\nax2 = ax1.twinx()\ncolor = 'tab:blue'\nax2.set_ylabel('Revenue', color=color)\nax2.plot(pd.to_datetime(tesla_revenue_data['Date']), tesla_revenue_data['Revenue'], color=color)\nax2.tick_params(axis='y', labelcolor=color)\n\nplt.title('Tesla Stock and Revenue')\nplt.show()",
      "metadata": {
        "trusted": true
      },
      "execution_count": null,
      "outputs": []
    },
    {
      "cell_type": "code",
      "source": "",
      "metadata": {},
      "execution_count": null,
      "outputs": []
    }
  ]
}