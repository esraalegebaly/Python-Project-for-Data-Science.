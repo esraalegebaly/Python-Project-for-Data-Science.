{
  "metadata": {
    "language_info": {
      "codemirror_mode": {
        "name": "python",
        "version": 3
      },
      "file_extension": ".py",
      "mimetype": "text/x-python",
      "name": "python",
      "nbconvert_exporter": "python",
      "pygments_lexer": "ipython3",
      "version": "3.8"
    },
    "kernelspec": {
      "name": "python",
      "display_name": "Python (Pyodide)",
      "language": "python"
    }
  },
  "nbformat_minor": 4,
  "nbformat": 4,
  "cells": [
    {
      "cell_type": "code",
      "source": "await __import__(\"piplite\").install(**{'requirements': ['yfinance']})\nawait __import__(\"piplite\").install(**{'requirements': ['pandas']})\nawait __import__(\"piplite\").install(**{'requirements': ['requests']})\nawait __import__(\"piplite\").install(**{'requirements': ['lxml']})\nawait __import__(\"piplite\").install(**{'requirements': ['plotly']})\n%pip install yfinance\n%pip install pandas\n%pip install matplotlib\n\nimport requests\nfrom bs4 import BeautifulSoup\nimport matplotlib.pyplot as plt\nimport pandas as pd\nimport yfinance as yf\n\ngamestop = yf.Ticker(\"GME\")\n\ngamestop_data = gamestop.history(period=\"max\")\n\nprint(gamestop_data.head())",
      "metadata": {
        "trusted": true
      },
      "execution_count": null,
      "outputs": []
    },
    {
      "cell_type": "code",
      "source": "",
      "metadata": {},
      "execution_count": null,
      "outputs": []
    }
  ]
}