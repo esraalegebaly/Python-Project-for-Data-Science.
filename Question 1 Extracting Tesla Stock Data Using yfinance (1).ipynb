{
  "metadata": {
    "language_info": {
      "codemirror_mode": {
        "name": "python",
        "version": 3
      },
      "file_extension": ".py",
      "mimetype": "text/x-python",
      "name": "python",
      "nbconvert_exporter": "python",
      "pygments_lexer": "ipython3",
      "version": "3.8"
    },
    "kernelspec": {
      "name": "python",
      "display_name": "Python (Pyodide)",
      "language": "python"
    }
  },
  "nbformat_minor": 4,
  "nbformat": 4,
  "cells": [
    {
      "cell_type": "code",
      "source": "await __import__(\"piplite\").install(**{'requirements': ['yfinance']})\nawait __import__(\"piplite\").install(**{'requirements': ['pandas']})\nawait __import__(\"piplite\").install(**{'requirements': ['requests']})\nawait __import__(\"piplite\").install(**{'requirements': ['lxml']})\nawait __import__(\"piplite\").install(**{'requirements': ['plotly']}) \n%pip install yfinance\n%pip install pandas\n%pip install requests\n%pip install plotly\n\nimport yfinance as yf\nimport pandas as pd\nimport plotly.graph_objects as go\nfrom plotly.subplots import make_subplots\n\n\nticker = \"TSLA\"\ndata_source = \"yahoo\"\n\ntry:\n    \n    tesla_data = yf.download(ticker, data_source)\n    print(tesla_data.head())\n    \n  \n    tesla_data.reset_index(inplace=True)\n    \n\n    fig = make_subplots()\n    fig.add_trace(go.Scatter(x=tesla_data[\"Date\"], y=tesla_data[\"Close\"], name=\"Closing Price\"))\n    fig.update_layout(title=\"Tesla Stock Data\", xaxis_title=\"Date\", yaxis_title=\"Closing Price\")\n    fig.show()\n    \nexcept Exception as e:\n    print(\"Error occurred:\", e)",
      "metadata": {
        "trusted": true
      },
      "execution_count": 116,
      "outputs": [
        {
          "name": "stderr",
          "text": "Failed to get ticker 'TSLA' reason: Can't connect to HTTPS URL because the SSL module is not available.\n",
          "output_type": "stream"
        },
        {
          "name": "stdout",
          "text": "[*********************100%%**********************]  1 of 1 completed\n",
          "output_type": "stream"
        },
        {
          "name": "stderr",
          "text": "\n1 Failed download:\n['TSLA']: Exception('%ticker%: No timezone found, symbol may be delisted')\n",
          "output_type": "stream"
        },
        {
          "name": "stdout",
          "text": "Empty DataFrame\nColumns: [Open, High, Low, Close, Adj Close, Volume]\nIndex: []\nError occurred: Mime type rendering requires nbformat>=4.2.0 but it is not installed\n",
          "output_type": "stream"
        }
      ]
    },
    {
      "cell_type": "code",
      "source": "",
      "metadata": {},
      "execution_count": null,
      "outputs": []
    },
    {
      "cell_type": "code",
      "source": "",
      "metadata": {},
      "execution_count": null,
      "outputs": []
    }
  ]
}