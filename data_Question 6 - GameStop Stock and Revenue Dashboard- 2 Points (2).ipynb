{
  "metadata": {
    "language_info": {
      "codemirror_mode": {
        "name": "python",
        "version": 3
      },
      "file_extension": ".py",
      "mimetype": "text/x-python",
      "name": "python",
      "nbconvert_exporter": "python",
      "pygments_lexer": "ipython3",
      "version": "3.8"
    },
    "kernelspec": {
      "name": "python",
      "display_name": "Python (Pyodide)",
      "language": "python"
    }
  },
  "nbformat_minor": 4,
  "nbformat": 4,
  "cells": [
    {
      "cell_type": "code",
      "source": "await __import__(\"piplite\").install(**{'requirements': ['yfinance']})\nawait __import__(\"piplite\").install(**{'requirements': ['pandas']})\nawait __import__(\"piplite\").install(**{'requirements': ['requests']})\nawait __import__(\"piplite\").install(**{'requirements': ['lxml']})\nawait __import__(\"piplite\").install(**{'requirements': ['plotly']})\n%pip install yfinance\n%pip install pandas\n%pip install requests\n%pip install bs4\n%pip install plotly\n\nimport yfinance as yf\nimport pandas as pd\nimport requests\nfrom bs4 import BeautifulSoup\nimport matplotlib.pyplot as plt\n\ndef get_stock_data(ticker_symbol, start_date, end_date):\n    stock = yf.Ticker(ticker_symbol)\n    stock_data = stock.history(start=start_date, end=end_date)\n    return stock_data\n\ndef get_revenue_data(url):\n    response = requests.get(url)\n    soup = BeautifulSoup(response.content, 'html.parser')\n    revenue_table = soup.find('table')\n    \n    revenue_data = []\n    for row in revenue_table.find_all('tr')[1:]:\n        cols = row.find_all('td')\n        revenue_data.append([col.text.strip() for col in cols])\n    \n    return pd.DataFrame(revenue_data, columns=[\"Date\", \"Revenue\"])\n\n# Define the ticker symbol for GameStop and date range\nticker_gamestop = \"GME\"\nstart_date = \"2022-01-01\"\nend_date = \"2023-01-01\"\n\n# Get GameStop stock data\ngamestop_stock_data = get_stock_data(ticker_gamestop, start_date, end_date)\n\n# Define the URL for GameStop revenue data\nurl_gamestop_revenue = \"https://www.macrotrends.net/stocks/charts/GME/gamestop/revenue\"\n\n# Get GameStop revenue data\ngamestop_revenue_data = get_revenue_data(url_gamestop_revenue)\n\n# Plotting\nfig, ax1 = plt.subplots(figsize=(10, 6))\n\ncolor = 'tab:red'\nax1.set_xlabel('Date')\nax1.set_ylabel('Stock Closing Price', color=color)\nax1.plot(gamestop_stock_data.index, gamestop_stock_data['Close'], color=color)\nax1.tick_params(axis='y', labelcolor=color)\n\nax2 = ax1.twinx()\ncolor = 'tab:blue'\nax2.set_ylabel('Revenue', color=color)\nax2.plot(pd.to_datetime(gamestop_revenue_data['Date']), gamestop_revenue_data['Revenue'], color=color)\nax2.tick_params(axis='y', labelcolor=color)\n\nplt.title('GameStop Stock and Revenue')\nplt.show()\n",
      "metadata": {
        "trusted": true
      },
      "execution_count": null,
      "outputs": []
    },
    {
      "cell_type": "code",
      "source": "",
      "metadata": {},
      "execution_count": null,
      "outputs": []
    },
    {
      "cell_type": "code",
      "source": "",
      "metadata": {},
      "execution_count": null,
      "outputs": []
    },
    {
      "cell_type": "code",
      "source": "",
      "metadata": {},
      "execution_count": null,
      "outputs": []
    }
  ]
}